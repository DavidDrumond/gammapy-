{
 "cells": [
  {
   "cell_type": "markdown",
   "metadata": {},
   "source": [
    "<b> Example of gammapy calculations </b>"
   ]
  },
  {
   "cell_type": "code",
   "execution_count": 1,
   "metadata": {},
   "outputs": [],
   "source": [
    "# Import libarries \n",
    "import numpy as np \n",
    "import pandas as pd \n",
    "import matplotlib.pyplot as plt \n",
    "from gammapy import gammapy"
   ]
  },
  {
   "cell_type": "code",
   "execution_count": 7,
   "metadata": {},
   "outputs": [
    {
     "name": "stdout",
     "output_type": "stream",
     "text": [
      "        X       Y      Z    fe\n",
      "0  1080.0  1027.9  506.2  51.1\n",
      "1  1080.0  1021.1  494.5  51.1\n",
      "2  1614.0  1030.7  375.0  45.1\n",
      "3  1614.0  1023.2  362.1  45.1\n",
      "4  1614.0  1005.3  331.1  41.5\n",
      "5  1513.0  1043.5  395.4  41.1\n",
      "6  1513.0  1036.0  382.4  41.1\n",
      "7  1513.0  1019.9  354.5  45.9\n"
     ]
    }
   ],
   "source": [
    "# Import dataset \n",
    "data = np.loadtxt(\"Ferro 3d.dat\", skiprows= 1, unpack=False)\n",
    "df = pd.DataFrame(data, columns=['X','Y','Z','fe'])\n",
    "print(df.head(8))"
   ]
  },
  {
   "cell_type": "code",
   "execution_count": null,
   "metadata": {},
   "outputs": [],
   "source": []
  }
 ],
 "metadata": {
  "kernelspec": {
   "display_name": "Python 3",
   "language": "python",
   "name": "python3"
  },
  "language_info": {
   "codemirror_mode": {
    "name": "ipython",
    "version": 3
   },
   "file_extension": ".py",
   "mimetype": "text/x-python",
   "name": "python",
   "nbconvert_exporter": "python",
   "pygments_lexer": "ipython3",
   "version": "3.7.1"
  }
 },
 "nbformat": 4,
 "nbformat_minor": 2
}
